{
 "cells": [
  {
   "cell_type": "markdown",
   "id": "b9dc63b6",
   "metadata": {},
   "source": [
    "## Simple array manipulations 1.5 Points\n",
    "### Question 1  +.5 Points\n",
    "Please complete the code that would return the following results by completing the TODO Section:   \n",
    "**God Shave the Dean!**"
   ]
  },
  {
   "cell_type": "code",
   "execution_count": 3,
   "id": "5560a3c8",
   "metadata": {},
   "outputs": [
    {
     "name": "stdout",
     "output_type": "stream",
     "text": [
      "God Shave the Dean!\n"
     ]
    }
   ],
   "source": [
    "variable = ('And', 'the', 'Brass', 'Band', 'plays',\"God Shave the Dean!\")\n",
    "#Please Provide the answer in the todo section below\n",
    "print(variable[5])\n"
   ]
  },
  {
   "cell_type": "markdown",
   "id": "b3b97643",
   "metadata": {},
   "source": [
    "### Question 2  +.5 Points\n",
    "\n",
    "Please complete the code that would return the following results by completing the TODO Section:  \n",
    "And  \n",
    "the  \n",
    "Brass  \n",
    "Band  \n",
    "plays  \n",
    "God Shave the Dean!  "
   ]
  },
  {
   "cell_type": "code",
   "execution_count": 6,
   "id": "9416fa9e",
   "metadata": {},
   "outputs": [
    {
     "name": "stdout",
     "output_type": "stream",
     "text": [
      "And\n",
      "the\n",
      "Brass\n",
      "Band\n",
      "plays\n",
      "God Shave the Dean!\n"
     ]
    }
   ],
   "source": [
    "variable = ('And', 'the', 'Brass', 'Band', 'plays',\"God Shave the Dean!\")\n",
    "x = 0\n",
    "\n",
    "while x < 6: \n",
    "    print (variable[x])\n",
    "    x=x+1"
   ]
  },
  {
   "cell_type": "markdown",
   "id": "c360be4f",
   "metadata": {},
   "source": [
    "### Question 3  +.5 Points \n",
    "\n",
    "Please complete the code that would return the following results by completing the TODO Section:  \n",
    "Johns  \n",
    "Hopkins  \n",
    "University  "
   ]
  },
  {
   "cell_type": "code",
   "execution_count": 12,
   "id": "aacc3567",
   "metadata": {},
   "outputs": [
    {
     "name": "stdout",
     "output_type": "stream",
     "text": [
      "Johns\n",
      "Hopkins\n",
      "University\n"
     ]
    }
   ],
   "source": [
    "### For loop implementation\n",
    "d = {0: 'Johns', 1: 'Hopkins', 2: 'University'}\n",
    "for key in d:\n",
    "    print(d[key])"
   ]
  },
  {
   "cell_type": "markdown",
   "id": "6061f44b",
   "metadata": {},
   "source": [
    "## Pandas Data Query and Manipulation +5 Points  \n",
    "Please complete the code in the todo section\n"
   ]
  },
  {
   "cell_type": "code",
   "execution_count": 14,
   "id": "681e9f15",
   "metadata": {},
   "outputs": [
    {
     "data": {
      "text/html": [
       "<div>\n",
       "<style scoped>\n",
       "    .dataframe tbody tr th:only-of-type {\n",
       "        vertical-align: middle;\n",
       "    }\n",
       "\n",
       "    .dataframe tbody tr th {\n",
       "        vertical-align: top;\n",
       "    }\n",
       "\n",
       "    .dataframe thead th {\n",
       "        text-align: right;\n",
       "    }\n",
       "</style>\n",
       "<table border=\"1\" class=\"dataframe\">\n",
       "  <thead>\n",
       "    <tr style=\"text-align: right;\">\n",
       "      <th></th>\n",
       "      <th>A</th>\n",
       "      <th>B</th>\n",
       "      <th>C</th>\n",
       "      <th>D</th>\n",
       "    </tr>\n",
       "  </thead>\n",
       "  <tbody>\n",
       "    <tr>\n",
       "      <th>0</th>\n",
       "      <td>11.0</td>\n",
       "      <td>5.0</td>\n",
       "      <td>20</td>\n",
       "      <td>15</td>\n",
       "    </tr>\n",
       "    <tr>\n",
       "      <th>1</th>\n",
       "      <td>14.0</td>\n",
       "      <td>1.0</td>\n",
       "      <td>16</td>\n",
       "      <td>3</td>\n",
       "    </tr>\n",
       "    <tr>\n",
       "      <th>2</th>\n",
       "      <td>4.0</td>\n",
       "      <td>25.0</td>\n",
       "      <td>7</td>\n",
       "      <td>17</td>\n",
       "    </tr>\n",
       "    <tr>\n",
       "      <th>3</th>\n",
       "      <td>5.0</td>\n",
       "      <td>3.0</td>\n",
       "      <td>1</td>\n",
       "      <td>2</td>\n",
       "    </tr>\n",
       "    <tr>\n",
       "      <th>4</th>\n",
       "      <td>44.0</td>\n",
       "      <td>2.0</td>\n",
       "      <td>8</td>\n",
       "      <td>7</td>\n",
       "    </tr>\n",
       "    <tr>\n",
       "      <th>5</th>\n",
       "      <td>3.0</td>\n",
       "      <td>3.0</td>\n",
       "      <td>15</td>\n",
       "      <td>11</td>\n",
       "    </tr>\n",
       "    <tr>\n",
       "      <th>6</th>\n",
       "      <td>4.0</td>\n",
       "      <td>4.0</td>\n",
       "      <td>12</td>\n",
       "      <td>14</td>\n",
       "    </tr>\n",
       "    <tr>\n",
       "      <th>7</th>\n",
       "      <td>5.0</td>\n",
       "      <td>NaN</td>\n",
       "      <td>3</td>\n",
       "      <td>4</td>\n",
       "    </tr>\n",
       "    <tr>\n",
       "      <th>8</th>\n",
       "      <td>6.0</td>\n",
       "      <td>6.0</td>\n",
       "      <td>17</td>\n",
       "      <td>5</td>\n",
       "    </tr>\n",
       "    <tr>\n",
       "      <th>9</th>\n",
       "      <td>7.0</td>\n",
       "      <td>7.0</td>\n",
       "      <td>23</td>\n",
       "      <td>44</td>\n",
       "    </tr>\n",
       "    <tr>\n",
       "      <th>10</th>\n",
       "      <td>NaN</td>\n",
       "      <td>1.0</td>\n",
       "      <td>2</td>\n",
       "      <td>3</td>\n",
       "    </tr>\n",
       "    <tr>\n",
       "      <th>11</th>\n",
       "      <td>6.0</td>\n",
       "      <td>6.0</td>\n",
       "      <td>7</td>\n",
       "      <td>4</td>\n",
       "    </tr>\n",
       "  </tbody>\n",
       "</table>\n",
       "</div>"
      ],
      "text/plain": [
       "       A     B   C   D\n",
       "0   11.0   5.0  20  15\n",
       "1   14.0   1.0  16   3\n",
       "2    4.0  25.0   7  17\n",
       "3    5.0   3.0   1   2\n",
       "4   44.0   2.0   8   7\n",
       "5    3.0   3.0  15  11\n",
       "6    4.0   4.0  12  14\n",
       "7    5.0   NaN   3   4\n",
       "8    6.0   6.0  17   5\n",
       "9    7.0   7.0  23  44\n",
       "10   NaN   1.0   2   3\n",
       "11   6.0   6.0   7   4"
      ]
     },
     "execution_count": 14,
     "metadata": {},
     "output_type": "execute_result"
    }
   ],
   "source": [
    "# importing pandas as pd and build the dataframe\n",
    "import pandas as pd\n",
    "from sklearn.preprocessing import StandardScaler\n",
    "from sklearn.preprocessing import MinMaxScaler\n",
    " \n",
    "\n",
    "df = pd.DataFrame({\"A\":[11,14, 4, 5, 44, 3,4,5,6,7,None,6],\n",
    "                   \"B\":[5, 1, 25, 3, 2, 3,4,None,6,7,1,6],\n",
    "                   \"C\":[20, 16, 7, 1, 8,15, 12,3, 17, 23,2, 7], \n",
    "                   \"D\":[15, 3, 17, 2, 7,11,14, 4, 5, 44, 3,4]})\n",
    "\n",
    "# Print the dataframe\n",
    "df\n"
   ]
  },
  {
   "cell_type": "markdown",
   "id": "734e36f6",
   "metadata": {},
   "source": [
    "### Pandas Question1 +1 point"
   ]
  },
  {
   "cell_type": "code",
   "execution_count": 17,
   "id": "661b61d5",
   "metadata": {},
   "outputs": [
    {
     "name": "stdout",
     "output_type": "stream",
     "text": [
      "0     20.0\n",
      "1     16.0\n",
      "2     25.0\n",
      "3      5.0\n",
      "4     44.0\n",
      "5     15.0\n",
      "6     14.0\n",
      "7      5.0\n",
      "8     17.0\n",
      "9     44.0\n",
      "10     3.0\n",
      "11     7.0\n",
      "dtype: float64\n"
     ]
    }
   ],
   "source": [
    "#Pandas Row Max +1 point\n",
    "#Todo Return the Max of all the Rows  #Hint you may use the dataframe.max() function and axis= 1\n",
    "#Todo (df.updated this portion)\n",
    "maxValues = df.max(axis=1)\n",
    "print(maxValues)\n"
   ]
  },
  {
   "cell_type": "markdown",
   "id": "f14c9843",
   "metadata": {},
   "source": [
    "### Pandas Question2 +1 point"
   ]
  },
  {
   "cell_type": "code",
   "execution_count": 18,
   "id": "e22ffa58",
   "metadata": {},
   "outputs": [
    {
     "name": "stdout",
     "output_type": "stream",
     "text": [
      "A    44.0\n",
      "B    25.0\n",
      "C    23.0\n",
      "D    44.0\n",
      "dtype: float64\n"
     ]
    }
   ],
   "source": [
    "#Pandas Column Max +1 point\n",
    "#Todo Return the Max of all the Columns  #Hint you may use the dataframe.max() function and axis= 0\n",
    "#Todo print(df.updated this portion)\n",
    "maxValues = df.max(axis=0)\n",
    "print(maxValues)"
   ]
  },
  {
   "cell_type": "markdown",
   "id": "683ab616",
   "metadata": {},
   "source": [
    "### Pandas Question3 +1 point"
   ]
  },
  {
   "cell_type": "code",
   "execution_count": 21,
   "id": "31dda309",
   "metadata": {},
   "outputs": [
    {
     "name": "stdout",
     "output_type": "stream",
     "text": [
      "48\n"
     ]
    }
   ],
   "source": [
    "#Pandas Size +1 point\n",
    "#Return the size of the dataframe. \n",
    "\n",
    "print(df.size)"
   ]
  },
  {
   "cell_type": "markdown",
   "id": "dce6601c",
   "metadata": {},
   "source": [
    "### Pandas Question4 +1 point"
   ]
  },
  {
   "cell_type": "code",
   "execution_count": 27,
   "id": "23b8776c",
   "metadata": {},
   "outputs": [
    {
     "name": "stdout",
     "output_type": "stream",
     "text": [
      "[[ 0.09722418 -0.11368408  1.29660876  0.37909049]\n",
      " [ 0.36459066 -0.73894655  0.72562509 -0.69128265]\n",
      " [-0.52663095  3.01262824 -0.55908818  0.55748601]\n",
      " [-0.43750879 -0.42631532 -1.41556369 -0.78048041]\n",
      " [ 3.0382555  -0.58263093 -0.41634226 -0.33449161]\n",
      " [-0.61575311 -0.42631532  0.58287917  0.02229944]\n",
      " [-0.52663095 -0.2699997   0.15464141  0.28989273]\n",
      " [-0.43750879         nan -1.13007186 -0.60208489]\n",
      " [-0.34838663  0.04263153  0.86837101 -0.51288713]\n",
      " [-0.25926447  0.19894715  1.72484652  2.96582557]\n",
      " [        nan -0.73894655 -1.27281778 -0.69128265]\n",
      " [-0.34838663  0.04263153 -0.55908818 -0.60208489]]\n"
     ]
    }
   ],
   "source": [
    "#Pandas Standardize +2 point\n",
    "#Todo return scaler transform of the dataframe. \n",
    "stand = StandardScaler()\n",
    "data = stand.fit_transform(df)\n",
    "print(data)"
   ]
  },
  {
   "cell_type": "markdown",
   "id": "412a45e1",
   "metadata": {},
   "source": [
    "### Pandas Question5 +1 point"
   ]
  },
  {
   "cell_type": "code",
   "execution_count": 28,
   "id": "68575706",
   "metadata": {},
   "outputs": [
    {
     "name": "stdout",
     "output_type": "stream",
     "text": [
      "[[0.19512195 0.16666667 0.86363636 0.30952381]\n",
      " [0.26829268 0.         0.68181818 0.02380952]\n",
      " [0.02439024 1.         0.27272727 0.35714286]\n",
      " [0.04878049 0.08333333 0.         0.        ]\n",
      " [1.         0.04166667 0.31818182 0.11904762]\n",
      " [0.         0.08333333 0.63636364 0.21428571]\n",
      " [0.02439024 0.125      0.5        0.28571429]\n",
      " [0.04878049        nan 0.09090909 0.04761905]\n",
      " [0.07317073 0.20833333 0.72727273 0.07142857]\n",
      " [0.09756098 0.25       1.         1.        ]\n",
      " [       nan 0.         0.04545455 0.02380952]\n",
      " [0.07317073 0.20833333 0.27272727 0.04761905]]\n"
     ]
    }
   ],
   "source": [
    "#Pandas Normalize +2 point\n",
    "#Todo Return nomalized transform of the dataframe. \n",
    "minmax = MinMaxScaler()\n",
    "data2 = minmax.fit_transform(df)\n",
    "print(data2)"
   ]
  },
  {
   "cell_type": "markdown",
   "id": "b0a13dac",
   "metadata": {},
   "source": [
    "## Natural Language Processing +5 Points  \n",
    "Please complete the code in the todo section"
   ]
  },
  {
   "cell_type": "markdown",
   "id": "0c400685",
   "metadata": {},
   "source": [
    "### NLP Question1 +1 point"
   ]
  },
  {
   "cell_type": "code",
   "execution_count": 40,
   "id": "70b5f352",
   "metadata": {},
   "outputs": [
    {
     "name": "stdout",
     "output_type": "stream",
     "text": [
      "showing info https://raw.githubusercontent.com/nltk/nltk_data/gh-pages/index.xml\n",
      "['At', 'JHU', 'you', 'can', 'earn', 'an', 'empowering', 'JHU', 'degree', 'in', 'Science', 'while', 'exploring', 'Educational', 'opportunities', 'within', 'graduate', 'level', 'Programs']\n"
     ]
    }
   ],
   "source": [
    "#NLP Tokenize the sentence +1 point\n",
    "#Todo return word tokenized text.\n",
    "nltk.download()\n",
    "import nltk\n",
    "\n",
    "text = \"At JHU you can earn an empowering JHU degree in Science while exploring Educational opportunities within graduate level Programs\"\n",
    "tokens = nltk.word_tokenize(text)\n",
    "print(tokens)"
   ]
  },
  {
   "cell_type": "markdown",
   "id": "784fe86b",
   "metadata": {},
   "source": [
    "### NLP Question2 +1 point"
   ]
  },
  {
   "cell_type": "code",
   "execution_count": 41,
   "id": "15b24091",
   "metadata": {},
   "outputs": [
    {
     "name": "stdout",
     "output_type": "stream",
     "text": [
      "['At JHU you can earn an empowering JHU degree in Science while exploring Educational opportunities within graduate level Programs']\n"
     ]
    }
   ],
   "source": [
    "#NLP Tokenize the sentence +1 point\n",
    "#Todo return sentence tokenized text.\n",
    "import nltk\n",
    "text = \"At JHU you can earn an empowering JHU degree in Science while exploring Educational opportunities within graduate level Programs\"\n",
    "tokens = nltk.sent_tokenize(text)\n",
    "print(tokens)"
   ]
  },
  {
   "cell_type": "markdown",
   "id": "8e7c4af2",
   "metadata": {},
   "source": [
    "### NLP Question3 +1 point"
   ]
  },
  {
   "cell_type": "code",
   "execution_count": 45,
   "id": "18da5060",
   "metadata": {
    "scrolled": true
   },
   "outputs": [
    {
     "name": "stdout",
     "output_type": "stream",
     "text": [
      "[('At', 'IN'), ('JHU', 'NNP'), ('you', 'PRP'), ('can', 'MD'), ('earn', 'VB'), ('an', 'DT'), ('empowering', 'NN'), ('JHU', 'NNP'), ('degree', 'NN'), ('in', 'IN'), ('Science', 'NNP'), ('while', 'IN'), ('exploring', 'VBG'), ('Educational', 'JJ'), ('opportunities', 'NNS'), ('within', 'IN'), ('graduate', 'JJ'), ('level', 'NN'), ('Programs', 'NNP')]\n"
     ]
    }
   ],
   "source": [
    "#NLP POS tag the words +1 point\n",
    "#Todo POS tagged text.\n",
    "import nltk\n",
    "text = \"At JHU you can earn an empowering JHU degree in Science while exploring Educational opportunities within graduate level Programs\"\n",
    "tokens = nltk.word_tokenize(text)\n",
    "tag = nltk.pos_tag(tokens)\n",
    "print(tag)"
   ]
  },
  {
   "cell_type": "markdown",
   "id": "81e0700b",
   "metadata": {},
   "source": [
    "### NLP Question4 +3 Points\n",
    "### Please complete the todo portions of the code below and also create results as shown below\n",
    "#### Todo - Tokenize\n",
    "#### Todo - POS\n",
    "#### Todo1- JJ  Adjective    \n",
    "#### Todo2- NNS Noun plural      \n",
    "#### Todo3- IN  Preposition/subordinating conjunction    \n",
    "#### Todo4- JJ  Adjective    \n",
    "#### Todo5- NN \tnoun, singular     \n",
    "\n",
    "### This should be the result of the print(result) statement when the todos are added  \n",
    "(S  \n",
    "  At/IN  \n",
    "  JHU/NNP  \n",
    "  you/PRP  \n",
    "  can/MD  \n",
    "  earn/VB  \n",
    "  an/DT  \n",
    "  (NP empowering/NN)  \n",
    "  JHU/NNP  \n",
    "  (NP degree/NN)  \n",
    "  in/IN  \n",
    "  Science/NNP  \n",
    "  while/IN  \n",
    "  exploring/VBG  \n",
    "  (NP  \n",
    "    Educational/JJ  \n",
    "    opportunities/NNS  \n",
    "    within/IN  \n",
    "    graduate/JJ  \n",
    "    level/NN)  \n",
    "  Programs/NNP)  "
   ]
  },
  {
   "cell_type": "code",
   "execution_count": 47,
   "id": "58670297",
   "metadata": {},
   "outputs": [
    {
     "name": "stdout",
     "output_type": "stream",
     "text": [
      "(S\n",
      "  At/IN\n",
      "  JHU/NNP\n",
      "  you/PRP\n",
      "  can/MD\n",
      "  earn/VB\n",
      "  an/DT\n",
      "  (NP empowering/NN)\n",
      "  JHU/NNP\n",
      "  (NP degree/NN)\n",
      "  in/IN\n",
      "  Science/NNP\n",
      "  while/IN\n",
      "  exploring/VBG\n",
      "  (NP\n",
      "    Educational/JJ\n",
      "    opportunities/NNS\n",
      "    within/IN\n",
      "    graduate/JJ\n",
      "    level/NN)\n",
      "  Programs/NNP)\n"
     ]
    }
   ],
   "source": [
    "#Please complete the tokenization section by adding the following to the POS tagging Portion\n",
    "import nltk\n",
    "text = \"At JHU you can earn an empowering JHU degree in Science while exploring Educational opportunities within graduate level Programs\"\n",
    "tokens = nltk.word_tokenize(text)\n",
    "tag = nltk.pos_tag(tokens)\n",
    "#grammar = \"NP: {<TODO1>?<TODO2>*<TODO3>?<TODO4>?<TODO5>}\" \n",
    "grammar = \"NP: {<JJ>?<NNS>*<IN>?<JJ>?<NN>}\"\n",
    "cp  =nltk.RegexpParser(grammar)\n",
    "result = cp.parse(tag)\n",
    "print(result)"
   ]
  },
  {
   "cell_type": "code",
   "execution_count": null,
   "id": "95653e1c",
   "metadata": {},
   "outputs": [],
   "source": []
  }
 ],
 "metadata": {
  "kernelspec": {
   "display_name": "Python 3 (ipykernel)",
   "language": "python",
   "name": "python3"
  },
  "language_info": {
   "codemirror_mode": {
    "name": "ipython",
    "version": 3
   },
   "file_extension": ".py",
   "mimetype": "text/x-python",
   "name": "python",
   "nbconvert_exporter": "python",
   "pygments_lexer": "ipython3",
   "version": "3.9.13"
  }
 },
 "nbformat": 4,
 "nbformat_minor": 5
}
